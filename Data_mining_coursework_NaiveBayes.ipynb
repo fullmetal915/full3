{
 "cells": [
  {
   "cell_type": "code",
   "execution_count": 14,
   "id": "b25d0a5a",
   "metadata": {},
   "outputs": [],
   "source": [
    "import numpy as np \n",
    "from numpy import log,dot,exp,shape\n",
    "import matplotlib.pyplot as plt\n",
    "from sklearn.model_selection import train_test_split\n",
    "from sklearn.metrics import roc_curve, auc\n",
    "from sklearn.preprocessing import label_binarize\n",
    "from sklearn.multiclass import OneVsRestClassifier\n",
    "from sklearn.metrics import roc_auc_score\n",
    "import pandas as pd\n",
    "import math"
   ]
  },
  {
   "cell_type": "code",
   "execution_count": 2,
   "id": "588e0030",
   "metadata": {},
   "outputs": [],
   "source": [
    "class NaiveBayes():\n",
    "    \"\"\"\n",
    "    The Gaussian Naive Bayes classifier. \n",
    "    \n",
    "    Attributes\n",
    "    ----------\n",
    "    \n",
    "    None\n",
    "    \n",
    "    Methods\n",
    "    -------\n",
    "    \n",
    "    fit(self, X, y)\n",
    "        Calculating mean and varience columnwise for particular a particular class\n",
    "        \n",
    "    _calculate_likelihood(self, mean, var, x)\n",
    "        Gaussian likelihood of the data x given mean and var\n",
    "        \n",
    "    _calculate_prior(self, c)\n",
    "        Calculate the prior of class c\n",
    "        (samples where class == c / total number of samples)\n",
    "        \n",
    "    _classify(self, sample)\n",
    "        Classification using Bayes Rule P(Y|X) = P(X|Y)*P(Y)/P(X),\n",
    "        or Posterior = Likelihood * Prior / Scaling Factor\n",
    "    \"\"\"\n",
    "    \n",
    "    def fit(self, X, y):\n",
    "        '''\n",
    "        Calculating mean and varience columnwise for particular a particular class\n",
    "        \n",
    "        Attributes\n",
    "        ----------\n",
    "        \n",
    "        X: ndarray\n",
    "            input\n",
    "        \n",
    "        y: ndarray\n",
    "            output\n",
    "        \n",
    "        '''\n",
    "        \n",
    "        self.X, self.y = X, y\n",
    "        self.classes = np.unique(y)\n",
    "        self.parameters = []\n",
    "        # Calculate the mean and variance of each feature for each class\n",
    "        for i, c in enumerate(self.classes):\n",
    "            # Only select the rows where the label equals the given class\n",
    "            X_where_c = X[np.where(y == c)]\n",
    "            self.parameters.append([])\n",
    "            # Add the mean and variance for each feature (column)\n",
    "            for col in X_where_c.T:\n",
    "                parameters = {\"mean\": col.mean(), \"var\": col.var()}\n",
    "                self.parameters[i].append(parameters)\n",
    "\n",
    "    def _calculate_likelihood(self, mean, var, x):\n",
    "        \"\"\" \n",
    "        Gaussian likelihood of the data x given mean and var \n",
    "        \n",
    "        Attributes\n",
    "        ----------\n",
    "        \n",
    "        mean: ndarray\n",
    "            columnwise mean\n",
    "            \n",
    "        var: ndarray\n",
    "            columnwise var\n",
    "        \"\"\"\n",
    "        \n",
    "        eps = 1e-4 # Added in denominator to prevent division by zero\n",
    "        coeff = 1.0 / math.sqrt(2.0 * math.pi * var + eps)\n",
    "        exponent = math.exp(-(math.pow(x - mean, 2) / (2 * var + eps)))\n",
    "        return coeff * exponent\n",
    "\n",
    "    def _calculate_prior(self, c):\n",
    "        \"\"\"\n",
    "        Calculate the prior of class c (samples where class == c / total number of samples)\n",
    "        \n",
    "        Attributes\n",
    "        ----------\n",
    "        \n",
    "        c: int\n",
    "            respective class\n",
    "        \"\"\"\n",
    "        \n",
    "        frequency = np.mean(self.y == c)\n",
    "        return frequency\n",
    "    \n",
    "    def get_accuracy(self,y,preds):\n",
    "        '''\n",
    "        function to get accuracy\n",
    "        \n",
    "        Attributes\n",
    "        ----------\n",
    "        \n",
    "        y: ndarray\n",
    "            output\n",
    "        \n",
    "        preds: ndarray\n",
    "            predicted output\n",
    "        '''\n",
    "        \n",
    "        preds_val=[]\n",
    "        correct=0\n",
    "        incorrect=0\n",
    "        for i in range(len(preds)):\n",
    "            if(preds[i] ==y[i]):\n",
    "                correct +=1\n",
    "            else:\n",
    "                incorrect +=1\n",
    "        return correct,incorrect \n",
    "\n",
    "    def _classify(self, sample):\n",
    "        \"\"\" \n",
    "        Classification using Bayes Rule P(Y|X) = P(X|Y)*P(Y)/P(X),\n",
    "        or Posterior = Likelihood * Prior / Scaling Factor\n",
    "        P(Y|X) - The posterior is the probability that sample x is of class y given the\n",
    "                 feature values of x being distributed according to distribution of y and the prior.\n",
    "        P(X|Y) - Likelihood of data X given class distribution Y.\n",
    "                 Gaussian distribution (given by _calculate_likelihood)\n",
    "        P(Y)   - Prior (given by _calculate_prior)\n",
    "        P(X)   - Scales the posterior to make it a proper probability distribution.\n",
    "                 This term is ignored in this implementation since it doesn't affect\n",
    "                 which class distribution the sample is most likely to belong to.\n",
    "        Classifies the sample as the class that results in the largest P(Y|X) (posterior)\n",
    "        \n",
    "        Attributes\n",
    "        ----------\n",
    "        \n",
    "        samples: ndarray\n",
    "            individual rows of x_test for classification\n",
    "            \n",
    "        Methods\n",
    "        -------\n",
    "        \n",
    "        _calculate_prior(self, c)\n",
    "            Calculate the prior of class c (samples where class == c / total number of samples)\n",
    "            \n",
    "        \n",
    "        _calculate_likelihood(self, mean, var, x)\n",
    "            Gaussian likelihood of the data x given mean and var \n",
    "        \"\"\"\n",
    "        \n",
    "        posteriors = []\n",
    "        # Go through list of classes\n",
    "        for i, c in enumerate(self.classes):\n",
    "            # Initialize posterior as prior\n",
    "            posterior = self._calculate_prior(c)\n",
    "            # Naive assumption (independence):\n",
    "            # P(x1,x2,x3|Y) = P(x1|Y)*P(x2|Y)*P(x3|Y)\n",
    "            # Posterior is product of prior and likelihoods (ignoring scaling factor)\n",
    "            for feature_value, params in zip(sample, self.parameters[i]):\n",
    "                # Likelihood of feature value given distribution of feature values given y\n",
    "                likelihood = self._calculate_likelihood(params[\"mean\"], params[\"var\"], feature_value)\n",
    "                posterior *= likelihood\n",
    "            posteriors.append(posterior)\n",
    "        # Return the class with the largest posterior probability\n",
    "        return self.classes[np.argmax(posteriors)]\n",
    "\n",
    "    def predict(self, X):\n",
    "        \"\"\" Predict the class labels of the samples in X \"\"\"\n",
    "        y_pred = [self._classify(sample) for sample in X]\n",
    "        return y_pred"
   ]
  },
  {
   "cell_type": "markdown",
   "id": "8a020e9c",
   "metadata": {},
   "source": [
    "For Data 8"
   ]
  },
  {
   "cell_type": "code",
   "execution_count": 9,
   "id": "8a9020c3",
   "metadata": {},
   "outputs": [
    {
     "name": "stdout",
     "output_type": "stream",
     "text": [
      "95.71428571428571\n"
     ]
    }
   ],
   "source": [
    "url = 'https://github.com/fullmetal915/full2/blob/main/data8.csv?raw=true'\n",
    "df = pd.read_csv(url, header=None)\n",
    "df = df[~(df == '?').any(axis=1)]\n",
    "\n",
    "x = df.iloc[:,:-1].values\n",
    "y = df.iloc[:, -1].values\n",
    "x_train, x_test, y_train, y_test = train_test_split(x, y, test_size = 1/3, random_state = 0)\n",
    "\n",
    "\n",
    "# Add a column of ones to account for bias in train and test\n",
    "x_train = np.hstack((np.ones((y_train.size,1)),x_train))\n",
    "x_test  = np.hstack((np.ones((y_test.size,1)),x_test))\n",
    "\n",
    "obj = NaiveBayes()\n",
    "obj.fit(x_train, y_train)\n",
    "y_pred = obj.predict(x_test)\n",
    "\n",
    "correct,incorrect = obj.get_accuracy(y_test, y_pred)\n",
    "acc = correct*100/(correct+incorrect)\n",
    "print(acc)"
   ]
  },
  {
   "cell_type": "code",
   "execution_count": 10,
   "id": "b7847c0d",
   "metadata": {
    "scrolled": true
   },
   "outputs": [
    {
     "data": {
      "text/plain": [
       "[0,\n",
       " 0,\n",
       " 0,\n",
       " 0,\n",
       " 1,\n",
       " 0,\n",
       " 1,\n",
       " 0,\n",
       " 1,\n",
       " 1,\n",
       " 0,\n",
       " 1,\n",
       " 0,\n",
       " 1,\n",
       " 1,\n",
       " 0,\n",
       " 1,\n",
       " 0,\n",
       " 1,\n",
       " 0,\n",
       " 1,\n",
       " 0,\n",
       " 0,\n",
       " 0,\n",
       " 1,\n",
       " 1,\n",
       " 1,\n",
       " 1,\n",
       " 1,\n",
       " 1,\n",
       " 0,\n",
       " 1,\n",
       " 1,\n",
       " 0,\n",
       " 1,\n",
       " 1,\n",
       " 1,\n",
       " 1,\n",
       " 0,\n",
       " 1,\n",
       " 1,\n",
       " 0,\n",
       " 1,\n",
       " 1,\n",
       " 0,\n",
       " 0,\n",
       " 1,\n",
       " 0,\n",
       " 0,\n",
       " 1,\n",
       " 0,\n",
       " 0,\n",
       " 1,\n",
       " 1,\n",
       " 0,\n",
       " 0,\n",
       " 1,\n",
       " 1,\n",
       " 1,\n",
       " 1,\n",
       " 1,\n",
       " 1,\n",
       " 0,\n",
       " 0,\n",
       " 0,\n",
       " 0,\n",
       " 0,\n",
       " 0,\n",
       " 1,\n",
       " 1]"
      ]
     },
     "execution_count": 10,
     "metadata": {},
     "output_type": "execute_result"
    }
   ],
   "source": [
    "y_pred"
   ]
  },
  {
   "cell_type": "code",
   "execution_count": 11,
   "id": "0aadab61",
   "metadata": {},
   "outputs": [
    {
     "data": {
      "image/png": "[encoded data removed]",
      "text/plain": [
       "<Figure size 432x288 with 1 Axes>"
      ]
     },
     "metadata": {
      "needs_background": "light"
     },
     "output_type": "display_data"
    }
   ],
   "source": [
    "from sklearn.metrics import roc_curve, roc_auc_score\n",
    "\n",
    "false_positive_rate, true_positive_rate,threshold = roc_curve(y_test, y_pred)\n",
    "plt.title('Receiver Operating Characteristic - LDA-DATA3D')\n",
    "plt.plot(false_positive_rate, true_positive_rate)\n",
    "plt.show()"
   ]
  },
  {
   "cell_type": "code",
   "execution_count": 16,
   "id": "480872f2",
   "metadata": {},
   "outputs": [
    {
     "name": "stdout",
     "output_type": "stream",
     "text": [
      "9.210526315789474\n"
     ]
    }
   ],
   "source": [
    "url = 'https://github.com/fullmetal915/full2/blob/main/data9.csv?raw=true'\n",
    "df = pd.read_csv(url, header=None)\n",
    "df = df[~(df == '?').any(axis=1)]\n",
    "\n",
    "x = df.iloc[:,:-1].values\n",
    "y = df.iloc[:, -1].values\n",
    "x_train, x_test, y_train, y_test = train_test_split(x, y, test_size = 1/3, random_state = 0)\n",
    "\n",
    "\n",
    "# Add a column of ones to account for bias in train and test\n",
    "x_train = np.hstack((np.ones((y_train.size,1)),x_train))\n",
    "x_test  = np.hstack((np.ones((y_test.size,1)),x_test))\n",
    "\n",
    "obj = NaiveBayes()\n",
    "obj.fit(x_train, y_train)\n",
    "y_pred = obj.predict(x_test)\n",
    "\n",
    "correct,incorrect = obj.get_accuracy(y_test, y_pred)\n",
    "acc = correct*100/(correct+incorrect)\n",
    "print(acc)"
   ]
  },
  {
   "cell_type": "code",
   "execution_count": 18,
   "id": "84cd6edf",
   "metadata": {
    "scrolled": true
   },
   "outputs": [
    {
     "data": {
      "text/plain": [
       "[20,\n",
       " 9,\n",
       " 8,\n",
       " 18,\n",
       " 20,\n",
       " 8,\n",
       " 9,\n",
       " 17,\n",
       " 8,\n",
       " 13,\n",
       " 20,\n",
       " 8,\n",
       " 13,\n",
       " 13,\n",
       " 8,\n",
       " 20,\n",
       " 17,\n",
       " 24,\n",
       " 13,\n",
       " 18,\n",
       " 18,\n",
       " 17,\n",
       " 9,\n",
       " 7,\n",
       " 8,\n",
       " 13,\n",
       " 18,\n",
       " 13,\n",
       " 13,\n",
       " 20,\n",
       " 13,\n",
       " 20,\n",
       " 13,\n",
       " 13,\n",
       " 17,\n",
       " 24,\n",
       " 13,\n",
       " 13,\n",
       " 13,\n",
       " 8,\n",
       " 9,\n",
       " 17,\n",
       " 20,\n",
       " 24,\n",
       " 8,\n",
       " 18,\n",
       " 13,\n",
       " 18,\n",
       " 20,\n",
       " 9,\n",
       " 17,\n",
       " 20,\n",
       " 9,\n",
       " 17,\n",
       " 24,\n",
       " 20,\n",
       " 8,\n",
       " 13,\n",
       " 8,\n",
       " 13,\n",
       " 18,\n",
       " 20,\n",
       " 13,\n",
       " 17,\n",
       " 11,\n",
       " 8,\n",
       " 13,\n",
       " 17,\n",
       " 13,\n",
       " 13,\n",
       " 24,\n",
       " 17,\n",
       " 13,\n",
       " 13,\n",
       " 18,\n",
       " 17]"
      ]
     },
     "execution_count": 18,
     "metadata": {},
     "output_type": "execute_result"
    }
   ],
   "source": [
    "y_pred"
   ]
  },
  {
   "cell_type": "markdown",
   "id": "943a4a16",
   "metadata": {},
   "source": [
    "For data 6"
   ]
  },
  {
   "cell_type": "code",
   "execution_count": 10,
   "id": "1fb7fcec",
   "metadata": {},
   "outputs": [
    {
     "name": "stdout",
     "output_type": "stream",
     "text": [
      "85.71428571428571\n"
     ]
    }
   ],
   "source": [
    "url = 'https://github.com/fullmetal915/full2/blob/main/data6.csv?raw=true'\n",
    "df = pd.read_csv(url, header=None)\n",
    "df = df[~(df == '?').any(axis=1)]\n",
    "\n",
    "x = df.iloc[:,:-1].values\n",
    "y = df.iloc[:, -1].values\n",
    "x_train, x_test, y_train, y_test = train_test_split(x, y, test_size = 1/3, random_state = 0)\n",
    "\n",
    "\n",
    "# Add a column of ones to account for bias in train and test\n",
    "x_train = np.hstack((np.ones((y_train.size,1)),x_train))\n",
    "x_test  = np.hstack((np.ones((y_test.size,1)),x_test))\n",
    "\n",
    "obj = NaiveBayes()\n",
    "obj.fit(x_train, y_train)\n",
    "y_pred = obj.predict(x_test)\n",
    "\n",
    "correct,incorrect = obj.get_accuracy(y_test, y_pred)\n",
    "acc = correct*100/(correct+incorrect)\n",
    "print(acc)"
   ]
  },
  {
   "cell_type": "code",
   "execution_count": 12,
   "id": "039ba69b",
   "metadata": {
    "scrolled": true
   },
   "outputs": [
    {
     "data": {
      "image/png": "[encoded data removed]",
      "text/plain": [
       "<Figure size 432x288 with 1 Axes>"
      ]
     },
     "metadata": {
      "needs_background": "light"
     },
     "output_type": "display_data"
    }
   ],
   "source": [
    "from sklearn.metrics import roc_curve, roc_auc_score\n",
    "\n",
    "false_positive_rate, true_positive_rate,threshold = roc_curve(y_test, y_pred)\n",
    "plt.title('Receiver Operating Characteristic - LDA-DATA3D')\n",
    "plt.plot(false_positive_rate, true_positive_rate)\n",
    "plt.show()"
   ]
  },
  {
   "cell_type": "markdown",
   "id": "2c1b3349",
   "metadata": {},
   "source": [
    "For data 7"
   ]
  },
  {
   "cell_type": "code",
   "execution_count": 33,
   "id": "4dfa719b",
   "metadata": {},
   "outputs": [
    {
     "name": "stdout",
     "output_type": "stream",
     "text": [
      "90.14084507042253\n"
     ]
    }
   ],
   "source": [
    "url = 'https://github.com/fullmetal915/full2/blob/main/data7.csv?raw=true'\n",
    "df = pd.read_csv(url, header=None)\n",
    "df = df[~(df == '?').any(axis=1)]\n",
    "\n",
    "x = df.iloc[:,:-1].values\n",
    "y = df.iloc[:, -1].values\n",
    "x_train, x_test, y_train, y_test = train_test_split(x, y, test_size = 1/3, random_state = 0)\n",
    "\n",
    "\n",
    "# Add a column of ones to account for bias in train and test\n",
    "x_train = np.hstack((np.ones((y_train.size,1)),x_train))\n",
    "x_test  = np.hstack((np.ones((y_test.size,1)),x_test))\n",
    "\n",
    "obj = NaiveBayes()\n",
    "obj.fit(x_train, y_train)\n",
    "y_pred = obj.predict(x_test)\n",
    "\n",
    "correct,incorrect = obj.get_accuracy(y_test, y_pred)\n",
    "acc = correct*100/(correct+incorrect)\n",
    "print(acc)"
   ]
  },
  {
   "cell_type": "code",
   "execution_count": null,
   "id": "14465398",
   "metadata": {},
   "outputs": [],
   "source": []
  }
 ],
 "metadata": {
  "kernelspec": {
   "display_name": "Python 3 (ipykernel)",
   "language": "python",
   "name": "python3"
  },
  "language_info": {
   "codemirror_mode": {
    "name": "ipython",
    "version": 3
   },
   "file_extension": ".py",
   "mimetype": "text/x-python",
   "name": "python",
   "nbconvert_exporter": "python",
   "pygments_lexer": "ipython3",
   "version": "3.9.12"
  }
 },
 "nbformat": 4,
 "nbformat_minor": 5
}
